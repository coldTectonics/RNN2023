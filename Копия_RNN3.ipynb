{
  "cells": [
    {
      "cell_type": "code",
      "execution_count": null,
      "id": "27e86681",
      "metadata": {
        "colab": {
          "base_uri": "https://localhost:8080/"
        },
        "id": "27e86681",
        "outputId": "78437dcc-05df-4368-d2ac-81eebe355f4d"
      },
      "outputs": [
        {
          "output_type": "stream",
          "name": "stdout",
          "text": [
            "Mounted at /content/drive\n"
          ]
        }
      ],
      "source": [
        "import numpy as np\n",
        "from tensorflow.keras.models import Sequential\n",
        "from tensorflow.keras.layers import LSTM\n",
        "from tensorflow.keras.layers import Dense, Dropout\n",
        "import pandas as pd\n",
        "from matplotlib import pyplot as plt\n",
        "from sklearn.preprocessing import MinMaxScaler\n",
        "import seaborn as sns\n",
        "\n",
        "from google.colab import drive\n",
        "drive.mount('/content/drive')"
      ]
    },
    {
      "cell_type": "code",
      "execution_count": null,
      "id": "9f685196",
      "metadata": {
        "id": "9f685196"
      },
      "outputs": [],
      "source": [
        "test_split=round(len(df)*0.20)"
      ]
    },
    {
      "cell_type": "code",
      "execution_count": null,
      "id": "c435d2e4",
      "metadata": {
        "colab": {
          "base_uri": "https://localhost:8080/"
        },
        "id": "c435d2e4",
        "outputId": "a72fcf3d-808e-4640-c6e0-6693da9cef31"
      },
      "outputs": [
        {
          "output_type": "execute_result",
          "data": {
            "text/plain": [
              "1200"
            ]
          },
          "metadata": {},
          "execution_count": 10
        }
      ],
      "source": [
        "test_split"
      ]
    },
    {
      "cell_type": "code",
      "execution_count": null,
      "id": "6815e6cf",
      "metadata": {
        "id": "6815e6cf"
      },
      "outputs": [],
      "source": [
        "df_for_training=df.iloc[:-1200]\n",
        "df_for_testing=df.iloc[-1200:]"
      ]
    },
    {
      "cell_type": "code",
      "execution_count": null,
      "id": "164f3e06",
      "metadata": {
        "colab": {
          "base_uri": "https://localhost:8080/"
        },
        "id": "164f3e06",
        "outputId": "9c75db34-663b-43ce-e32e-1d3b7c779280"
      },
      "outputs": [
        {
          "output_type": "stream",
          "name": "stdout",
          "text": [
            "(4801, 12)\n",
            "(1200, 12)\n"
          ]
        }
      ],
      "source": [
        "print(df_for_training.shape)\n",
        "print(df_for_testing.shape)"
      ]
    },
    {
      "cell_type": "code",
      "execution_count": null,
      "id": "4a86012c",
      "metadata": {
        "id": "4a86012c"
      },
      "outputs": [],
      "source": [
        "scaler = MinMaxScaler(feature_range=(0,1))\n",
        "df_for_training_scaled = scaler.fit_transform(df_for_training)"
      ]
    },
    {
      "cell_type": "code",
      "execution_count": null,
      "id": "5697bff5",
      "metadata": {
        "id": "5697bff5"
      },
      "outputs": [],
      "source": [
        "df_for_testing_scaled=scaler.transform(df_for_testing)"
      ]
    },
    {
      "cell_type": "code",
      "execution_count": null,
      "id": "03b668b1",
      "metadata": {
        "colab": {
          "base_uri": "https://localhost:8080/"
        },
        "id": "03b668b1",
        "outputId": "0ecd110f-a7e8-4a22-8021-706beffaf777"
      },
      "outputs": [
        {
          "output_type": "execute_result",
          "data": {
            "text/plain": [
              "(4801, 12)"
            ]
          },
          "metadata": {},
          "execution_count": 16
        }
      ],
      "source": [
        "df_for_training_scaled.shape"
      ]
    },
    {
      "cell_type": "code",
      "execution_count": null,
      "id": "88390259",
      "metadata": {
        "colab": {
          "base_uri": "https://localhost:8080/"
        },
        "id": "88390259",
        "outputId": "b183c5d6-cb08-4417-eb05-a76be51efd26"
      },
      "outputs": [
        {
          "output_type": "execute_result",
          "data": {
            "text/plain": [
              "(1200, 12)"
            ]
          },
          "metadata": {},
          "execution_count": 17
        }
      ],
      "source": [
        "df_for_testing_scaled.shape"
      ]
    },
    {
      "cell_type": "code",
      "execution_count": null,
      "id": "b6a58026",
      "metadata": {
        "id": "b6a58026"
      },
      "outputs": [],
      "source": [
        "def createXY(dataset,n_past):\n",
        "    dataX = []\n",
        "    dataY = []\n",
        "    for i in range(n_past, len(dataset)):\n",
        "            dataX.append(dataset[i - n_past:i, 0:dataset.shape[1]])\n",
        "            dataY.append(dataset[i,0])\n",
        "    return np.array(dataX),np.array(dataY)"
      ]
    },
    {
      "cell_type": "code",
      "execution_count": null,
      "id": "18b62d65",
      "metadata": {
        "id": "18b62d65"
      },
      "outputs": [],
      "source": [
        "trainX,trainY=createXY(df_for_training_scaled,100)"
      ]
    },
    {
      "cell_type": "code",
      "execution_count": null,
      "id": "184bfdb6",
      "metadata": {
        "id": "184bfdb6"
      },
      "outputs": [],
      "source": [
        "testX,testY=createXY(df_for_testing_scaled,100)"
      ]
    },
    {
      "cell_type": "code",
      "execution_count": null,
      "id": "d165e52b",
      "metadata": {
        "id": "d165e52b"
      },
      "outputs": [],
      "source": [
        "from keras.wrappers.scikit_learn import KerasRegressor\n",
        "from sklearn.model_selection import GridSearchCV"
      ]
    },
    {
      "cell_type": "code",
      "execution_count": null,
      "id": "42ffe2bf",
      "metadata": {
        "colab": {
          "base_uri": "https://localhost:8080/"
        },
        "id": "42ffe2bf",
        "outputId": "e3febcbf-db90-4d1d-bde3-809abf9ec6d3"
      },
      "outputs": [
        {
          "output_type": "stream",
          "name": "stderr",
          "text": [
            "<ipython-input-23-46cf2383d924>:11: DeprecationWarning: KerasRegressor is deprecated, use Sci-Keras (https://github.com/adriangb/scikeras) instead. See https://www.adriangb.com/scikeras/stable/migration.html for help migrating.\n",
            "  grid_model = KerasRegressor(build_fn=build_model,verbose=1,validation_data=(testX,testY))\n"
          ]
        }
      ],
      "source": [
        "def build_model(optimizer):\n",
        "    grid_model = Sequential()\n",
        "    grid_model.add(LSTM(50,return_sequences=True,input_shape=(100,12)))\n",
        "    grid_model.add(LSTM(50))\n",
        "    grid_model.add(Dropout(0.2))\n",
        "    grid_model.add(Dense(1))\n",
        "\n",
        "    grid_model.compile(loss = 'mse',optimizer = optimizer)\n",
        "    return grid_model\n",
        "\n",
        "grid_model = KerasRegressor(build_fn=build_model,verbose=1,validation_data=(testX,testY))\n",
        "parameters = {'batch_size' : [16,20],\n",
        "              'epochs' : [16,20],\n",
        "              'optimizer' : ['adam','Adadelta'] }\n",
        "\n",
        "grid_search  = GridSearchCV(estimator = grid_model,\n",
        "                            param_grid = parameters,\n",
        "                            cv = 2)"
      ]
    },
    {
      "cell_type": "code",
      "execution_count": null,
      "id": "1fc54625",
      "metadata": {
        "colab": {
          "base_uri": "https://localhost:8080/"
        },
        "id": "1fc54625",
        "outputId": "23cd88e8-557c-4bee-ac0a-8ab1d1d3c13d"
      },
      "outputs": [
        {
          "output_type": "stream",
          "name": "stdout",
          "text": [
            "Epoch 1/16\n",
            "147/147 [==============================] - 7s 17ms/step - loss: 0.0333 - val_loss: 0.1259\n",
            "Epoch 2/16\n",
            "147/147 [==============================] - 2s 12ms/step - loss: 0.0081 - val_loss: 0.1056\n",
            "Epoch 3/16\n",
            "147/147 [==============================] - 2s 12ms/step - loss: 0.0066 - val_loss: 0.0955\n",
            "Epoch 4/16\n",
            "147/147 [==============================] - 2s 15ms/step - loss: 0.0058 - val_loss: 0.0854\n",
            "Epoch 5/16\n",
            "147/147 [==============================] - 3s 17ms/step - loss: 0.0058 - val_loss: 0.0776\n",
            "Epoch 6/16\n",
            "147/147 [==============================] - 2s 12ms/step - loss: 0.0055 - val_loss: 0.0822\n",
            "Epoch 7/16\n",
            "147/147 [==============================] - 2s 12ms/step - loss: 0.0052 - val_loss: 0.0693\n",
            "Epoch 8/16\n",
            "147/147 [==============================] - 2s 12ms/step - loss: 0.0047 - val_loss: 0.0714\n",
            "Epoch 9/16\n",
            "147/147 [==============================] - 2s 12ms/step - loss: 0.0045 - val_loss: 0.0672\n",
            "Epoch 10/16\n",
            "147/147 [==============================] - 2s 12ms/step - loss: 0.0044 - val_loss: 0.0628\n",
            "Epoch 11/16\n",
            "147/147 [==============================] - 2s 13ms/step - loss: 0.0045 - val_loss: 0.0578\n",
            "Epoch 12/16\n",
            "147/147 [==============================] - 2s 17ms/step - loss: 0.0042 - val_loss: 0.0596\n",
            "Epoch 13/16\n",
            "147/147 [==============================] - 2s 13ms/step - loss: 0.0038 - val_loss: 0.0575\n",
            "Epoch 14/16\n",
            "147/147 [==============================] - 2s 12ms/step - loss: 0.0036 - val_loss: 0.0569\n",
            "Epoch 15/16\n",
            "147/147 [==============================] - 2s 12ms/step - loss: 0.0036 - val_loss: 0.0544\n",
            "Epoch 16/16\n",
            "147/147 [==============================] - 2s 12ms/step - loss: 0.0033 - val_loss: 0.0537\n",
            "147/147 [==============================] - 1s 7ms/step - loss: 0.0080\n",
            "Epoch 1/16\n",
            "147/147 [==============================] - 8s 22ms/step - loss: 6.0795e-04 - val_loss: 0.4808\n",
            "Epoch 2/16\n",
            "147/147 [==============================] - 2s 15ms/step - loss: 4.6660e-05 - val_loss: 0.4891\n",
            "Epoch 3/16\n",
            "147/147 [==============================] - 2s 12ms/step - loss: 3.1373e-05 - val_loss: 0.4942\n",
            "Epoch 4/16\n",
            "147/147 [==============================] - 2s 12ms/step - loss: 2.0022e-05 - val_loss: 0.4903\n",
            "Epoch 5/16\n",
            "147/147 [==============================] - 2s 12ms/step - loss: 1.4376e-05 - val_loss: 0.4929\n",
            "Epoch 6/16\n",
            "147/147 [==============================] - 2s 12ms/step - loss: 1.2391e-05 - val_loss: 0.4912\n",
            "Epoch 7/16\n",
            "147/147 [==============================] - 2s 12ms/step - loss: 7.5084e-06 - val_loss: 0.4924\n",
            "Epoch 8/16\n",
            "147/147 [==============================] - 2s 16ms/step - loss: 6.4481e-06 - val_loss: 0.4944\n",
            "Epoch 9/16\n",
            "147/147 [==============================] - 2s 16ms/step - loss: 5.8085e-06 - val_loss: 0.4945\n",
            "Epoch 10/16\n",
            "147/147 [==============================] - 2s 12ms/step - loss: 5.0504e-06 - val_loss: 0.4926\n",
            "Epoch 11/16\n",
            "147/147 [==============================] - 2s 12ms/step - loss: 5.2076e-06 - val_loss: 0.4926\n",
            "Epoch 12/16\n",
            "147/147 [==============================] - 2s 12ms/step - loss: 3.3648e-06 - val_loss: 0.4967\n",
            "Epoch 13/16\n",
            "147/147 [==============================] - 2s 12ms/step - loss: 6.0206e-06 - val_loss: 0.4934\n",
            "Epoch 14/16\n",
            "147/147 [==============================] - 2s 12ms/step - loss: 4.2477e-06 - val_loss: 0.4941\n",
            "Epoch 15/16\n",
            "147/147 [==============================] - 2s 15ms/step - loss: 4.2114e-06 - val_loss: 0.4943\n",
            "Epoch 16/16\n",
            "147/147 [==============================] - 2s 17ms/step - loss: 3.1342e-06 - val_loss: 0.4932\n",
            "147/147 [==============================] - 1s 5ms/step - loss: 0.5962\n",
            "Epoch 1/16\n",
            "147/147 [==============================] - 8s 19ms/step - loss: 0.4512 - val_loss: 0.3642\n",
            "Epoch 2/16\n",
            "147/147 [==============================] - 2s 12ms/step - loss: 0.4181 - val_loss: 0.3440\n",
            "Epoch 3/16\n",
            "147/147 [==============================] - 2s 12ms/step - loss: 0.3826 - val_loss: 0.3257\n",
            "Epoch 4/16\n",
            "147/147 [==============================] - 2s 12ms/step - loss: 0.3563 - val_loss: 0.3092\n",
            "Epoch 5/16\n",
            "147/147 [==============================] - 2s 12ms/step - loss: 0.3267 - val_loss: 0.2946\n",
            "Epoch 6/16\n",
            "147/147 [==============================] - 2s 16ms/step - loss: 0.2947 - val_loss: 0.2822\n",
            "Epoch 7/16\n",
            "147/147 [==============================] - 2s 15ms/step - loss: 0.2714 - val_loss: 0.2718\n",
            "Epoch 8/16\n",
            "147/147 [==============================] - 2s 12ms/step - loss: 0.2513 - val_loss: 0.2634\n",
            "Epoch 9/16\n",
            "147/147 [==============================] - 2s 12ms/step - loss: 0.2361 - val_loss: 0.2565\n",
            "Epoch 10/16\n",
            "147/147 [==============================] - 2s 12ms/step - loss: 0.2240 - val_loss: 0.2509\n",
            "Epoch 11/16\n",
            "147/147 [==============================] - 2s 12ms/step - loss: 0.2085 - val_loss: 0.2463\n",
            "Epoch 12/16\n",
            "147/147 [==============================] - 2s 12ms/step - loss: 0.1964 - val_loss: 0.2425\n",
            "Epoch 13/16\n",
            "147/147 [==============================] - 2s 15ms/step - loss: 0.1832 - val_loss: 0.2391\n",
            "Epoch 14/16\n",
            "147/147 [==============================] - 2s 16ms/step - loss: 0.1728 - val_loss: 0.2362\n",
            "Epoch 15/16\n",
            "147/147 [==============================] - 2s 12ms/step - loss: 0.1640 - val_loss: 0.2334\n",
            "Epoch 16/16\n",
            "147/147 [==============================] - 2s 12ms/step - loss: 0.1548 - val_loss: 0.2305\n",
            "147/147 [==============================] - 1s 5ms/step - loss: 0.1835\n",
            "Epoch 1/16\n",
            "147/147 [==============================] - 7s 25ms/step - loss: 0.0303 - val_loss: 0.5534\n",
            "Epoch 2/16\n",
            "147/147 [==============================] - 2s 15ms/step - loss: 0.0206 - val_loss: 0.5232\n",
            "Epoch 3/16\n",
            "147/147 [==============================] - 2s 12ms/step - loss: 0.0133 - val_loss: 0.4986\n",
            "Epoch 4/16\n",
            "147/147 [==============================] - 2s 12ms/step - loss: 0.0095 - val_loss: 0.4795\n",
            "Epoch 5/16\n",
            "147/147 [==============================] - 2s 12ms/step - loss: 0.0075 - val_loss: 0.4647\n",
            "Epoch 6/16\n",
            "147/147 [==============================] - 2s 12ms/step - loss: 0.0063 - val_loss: 0.4558\n",
            "Epoch 7/16\n",
            "147/147 [==============================] - 2s 12ms/step - loss: 0.0060 - val_loss: 0.4503\n",
            "Epoch 8/16\n",
            "147/147 [==============================] - 2s 16ms/step - loss: 0.0054 - val_loss: 0.4490\n",
            "Epoch 9/16\n",
            "147/147 [==============================] - 2s 16ms/step - loss: 0.0054 - val_loss: 0.4480\n",
            "Epoch 10/16\n",
            "147/147 [==============================] - 2s 12ms/step - loss: 0.0051 - val_loss: 0.4473\n",
            "Epoch 11/16\n",
            "147/147 [==============================] - 2s 12ms/step - loss: 0.0048 - val_loss: 0.4469\n",
            "Epoch 12/16\n",
            "147/147 [==============================] - 2s 12ms/step - loss: 0.0049 - val_loss: 0.4485\n",
            "Epoch 13/16\n",
            "147/147 [==============================] - 2s 12ms/step - loss: 0.0046 - val_loss: 0.4485\n",
            "Epoch 14/16\n",
            "147/147 [==============================] - 2s 12ms/step - loss: 0.0046 - val_loss: 0.4489\n",
            "Epoch 15/16\n",
            "147/147 [==============================] - 2s 15ms/step - loss: 0.0043 - val_loss: 0.4492\n",
            "Epoch 16/16\n",
            "147/147 [==============================] - 3s 17ms/step - loss: 0.0044 - val_loss: 0.4496\n",
            "147/147 [==============================] - 1s 5ms/step - loss: 0.5144\n",
            "Epoch 1/20\n",
            "147/147 [==============================] - 7s 20ms/step - loss: 0.0325 - val_loss: 0.0943\n",
            "Epoch 2/20\n",
            "147/147 [==============================] - 2s 13ms/step - loss: 0.0077 - val_loss: 0.0878\n",
            "Epoch 3/20\n",
            "147/147 [==============================] - 3s 17ms/step - loss: 0.0071 - val_loss: 0.0847\n",
            "Epoch 4/20\n",
            "147/147 [==============================] - 2s 15ms/step - loss: 0.0062 - val_loss: 0.0752\n",
            "Epoch 5/20\n",
            "147/147 [==============================] - 2s 12ms/step - loss: 0.0058 - val_loss: 0.0698\n",
            "Epoch 6/20\n",
            "147/147 [==============================] - 2s 12ms/step - loss: 0.0057 - val_loss: 0.0700\n",
            "Epoch 7/20\n",
            "147/147 [==============================] - 2s 12ms/step - loss: 0.0053 - val_loss: 0.0699\n",
            "Epoch 8/20\n",
            "147/147 [==============================] - 2s 12ms/step - loss: 0.0051 - val_loss: 0.0617\n",
            "Epoch 9/20\n",
            "147/147 [==============================] - 2s 12ms/step - loss: 0.0049 - val_loss: 0.0566\n",
            "Epoch 10/20\n",
            "147/147 [==============================] - 3s 17ms/step - loss: 0.0045 - val_loss: 0.0547\n",
            "Epoch 11/20\n",
            "147/147 [==============================] - 2s 15ms/step - loss: 0.0044 - val_loss: 0.0547\n",
            "Epoch 12/20\n",
            "147/147 [==============================] - 2s 12ms/step - loss: 0.0042 - val_loss: 0.0514\n",
            "Epoch 13/20\n",
            "147/147 [==============================] - 2s 12ms/step - loss: 0.0040 - val_loss: 0.0496\n",
            "Epoch 14/20\n",
            "147/147 [==============================] - 2s 12ms/step - loss: 0.0041 - val_loss: 0.0503\n",
            "Epoch 15/20\n",
            "147/147 [==============================] - 2s 12ms/step - loss: 0.0036 - val_loss: 0.0494\n",
            "Epoch 16/20\n",
            "147/147 [==============================] - 2s 12ms/step - loss: 0.0038 - val_loss: 0.0517\n",
            "Epoch 17/20\n",
            "147/147 [==============================] - 2s 16ms/step - loss: 0.0034 - val_loss: 0.0480\n",
            "Epoch 18/20\n",
            "147/147 [==============================] - 2s 15ms/step - loss: 0.0035 - val_loss: 0.0432\n",
            "Epoch 19/20\n",
            "147/147 [==============================] - 2s 12ms/step - loss: 0.0032 - val_loss: 0.0421\n",
            "Epoch 20/20\n",
            "147/147 [==============================] - 2s 12ms/step - loss: 0.0030 - val_loss: 0.0419\n",
            "147/147 [==============================] - 1s 5ms/step - loss: 0.0015\n",
            "Epoch 1/20\n",
            "147/147 [==============================] - 7s 24ms/step - loss: 0.0015 - val_loss: 0.5327\n",
            "Epoch 2/20\n",
            "147/147 [==============================] - 2s 13ms/step - loss: 1.2805e-04 - val_loss: 0.5162\n",
            "Epoch 3/20\n",
            "147/147 [==============================] - 2s 12ms/step - loss: 6.1628e-05 - val_loss: 0.5097\n",
            "Epoch 4/20\n",
            "147/147 [==============================] - 2s 12ms/step - loss: 3.9131e-05 - val_loss: 0.5099\n",
            "Epoch 5/20\n",
            "147/147 [==============================] - 2s 12ms/step - loss: 2.9173e-05 - val_loss: 0.5127\n",
            "Epoch 6/20\n",
            "147/147 [==============================] - 2s 12ms/step - loss: 2.1929e-05 - val_loss: 0.5130\n",
            "Epoch 7/20\n",
            "147/147 [==============================] - 2s 13ms/step - loss: 1.6471e-05 - val_loss: 0.5122\n",
            "Epoch 8/20\n",
            "147/147 [==============================] - 3s 18ms/step - loss: 1.5508e-05 - val_loss: 0.5071\n",
            "Epoch 9/20\n",
            "147/147 [==============================] - 2s 13ms/step - loss: 1.3157e-05 - val_loss: 0.5070\n",
            "Epoch 10/20\n",
            "147/147 [==============================] - 2s 12ms/step - loss: 9.3591e-06 - val_loss: 0.5068\n",
            "Epoch 11/20\n",
            "147/147 [==============================] - 2s 12ms/step - loss: 8.6079e-06 - val_loss: 0.5050\n",
            "Epoch 12/20\n",
            "147/147 [==============================] - 2s 12ms/step - loss: 7.2152e-06 - val_loss: 0.5067\n",
            "Epoch 13/20\n",
            "147/147 [==============================] - 2s 12ms/step - loss: 7.0357e-06 - val_loss: 0.5046\n",
            "Epoch 14/20\n",
            "147/147 [==============================] - 2s 12ms/step - loss: 6.2369e-06 - val_loss: 0.5040\n",
            "Epoch 15/20\n",
            "147/147 [==============================] - 3s 17ms/step - loss: 5.3636e-06 - val_loss: 0.5053\n",
            "Epoch 16/20\n",
            "147/147 [==============================] - 2s 15ms/step - loss: 4.7478e-06 - val_loss: 0.5060\n",
            "Epoch 17/20\n",
            "147/147 [==============================] - 2s 12ms/step - loss: 4.3222e-06 - val_loss: 0.5043\n",
            "Epoch 18/20\n",
            "147/147 [==============================] - 2s 12ms/step - loss: 4.5864e-06 - val_loss: 0.5042\n",
            "Epoch 19/20\n",
            "147/147 [==============================] - 2s 12ms/step - loss: 3.7522e-06 - val_loss: 0.5046\n",
            "Epoch 20/20\n",
            "147/147 [==============================] - 2s 12ms/step - loss: 4.7743e-06 - val_loss: 0.5059\n",
            "147/147 [==============================] - 1s 6ms/step - loss: 0.6012\n",
            "Epoch 1/20\n",
            "147/147 [==============================] - 7s 17ms/step - loss: 0.5517 - val_loss: 0.4268\n",
            "Epoch 2/20\n",
            "147/147 [==============================] - 2s 12ms/step - loss: 0.5091 - val_loss: 0.4007\n",
            "Epoch 3/20\n",
            "147/147 [==============================] - 2s 17ms/step - loss: 0.4726 - val_loss: 0.3759\n",
            "Epoch 4/20\n",
            "147/147 [==============================] - 2s 16ms/step - loss: 0.4335 - val_loss: 0.3528\n",
            "Epoch 5/20\n",
            "147/147 [==============================] - 2s 12ms/step - loss: 0.4010 - val_loss: 0.3310\n",
            "Epoch 6/20\n",
            "147/147 [==============================] - 2s 12ms/step - loss: 0.3592 - val_loss: 0.3110\n",
            "Epoch 7/20\n",
            "147/147 [==============================] - 2s 12ms/step - loss: 0.3273 - val_loss: 0.2926\n",
            "Epoch 8/20\n",
            "147/147 [==============================] - 2s 12ms/step - loss: 0.3003 - val_loss: 0.2758\n",
            "Epoch 9/20\n",
            "147/147 [==============================] - 2s 12ms/step - loss: 0.2718 - val_loss: 0.2610\n",
            "Epoch 10/20\n",
            "147/147 [==============================] - 2s 16ms/step - loss: 0.2473 - val_loss: 0.2478\n",
            "Epoch 11/20\n",
            "147/147 [==============================] - 2s 16ms/step - loss: 0.2221 - val_loss: 0.2365\n",
            "Epoch 12/20\n",
            "147/147 [==============================] - 2s 12ms/step - loss: 0.2038 - val_loss: 0.2269\n",
            "Epoch 13/20\n",
            "147/147 [==============================] - 2s 12ms/step - loss: 0.1863 - val_loss: 0.2187\n",
            "Epoch 14/20\n",
            "147/147 [==============================] - 2s 12ms/step - loss: 0.1688 - val_loss: 0.2118\n",
            "Epoch 15/20\n",
            "147/147 [==============================] - 2s 12ms/step - loss: 0.1594 - val_loss: 0.2060\n",
            "Epoch 16/20\n",
            "147/147 [==============================] - 2s 12ms/step - loss: 0.1427 - val_loss: 0.2011\n",
            "Epoch 17/20\n",
            "147/147 [==============================] - 2s 16ms/step - loss: 0.1329 - val_loss: 0.1970\n",
            "Epoch 18/20\n",
            "147/147 [==============================] - 2s 17ms/step - loss: 0.1243 - val_loss: 0.1934\n",
            "Epoch 19/20\n",
            "147/147 [==============================] - 2s 12ms/step - loss: 0.1166 - val_loss: 0.1902\n",
            "Epoch 20/20\n",
            "147/147 [==============================] - 2s 13ms/step - loss: 0.1071 - val_loss: 0.1873\n",
            "147/147 [==============================] - 1s 6ms/step - loss: 0.0912\n",
            "Epoch 1/20\n",
            "147/147 [==============================] - 8s 18ms/step - loss: 0.0735 - val_loss: 0.6573\n",
            "Epoch 2/20\n",
            "147/147 [==============================] - 2s 12ms/step - loss: 0.0530 - val_loss: 0.6108\n",
            "Epoch 3/20\n",
            "147/147 [==============================] - 2s 14ms/step - loss: 0.0374 - val_loss: 0.5704\n",
            "Epoch 4/20\n",
            "147/147 [==============================] - 2s 12ms/step - loss: 0.0264 - val_loss: 0.5359\n",
            "Epoch 5/20\n",
            "147/147 [==============================] - 2s 13ms/step - loss: 0.0188 - val_loss: 0.5082\n",
            "Epoch 6/20\n",
            "147/147 [==============================] - 2s 17ms/step - loss: 0.0152 - val_loss: 0.4860\n",
            "Epoch 7/20\n",
            "147/147 [==============================] - 2s 14ms/step - loss: 0.0128 - val_loss: 0.4700\n",
            "Epoch 8/20\n",
            "147/147 [==============================] - 2s 12ms/step - loss: 0.0111 - val_loss: 0.4611\n",
            "Epoch 9/20\n",
            "147/147 [==============================] - 2s 12ms/step - loss: 0.0105 - val_loss: 0.4564\n",
            "Epoch 10/20\n",
            "147/147 [==============================] - 2s 15ms/step - loss: 0.0106 - val_loss: 0.4551\n",
            "Epoch 11/20\n",
            "147/147 [==============================] - 2s 12ms/step - loss: 0.0109 - val_loss: 0.4533\n",
            "Epoch 12/20\n",
            "147/147 [==============================] - 2s 13ms/step - loss: 0.0100 - val_loss: 0.4511\n",
            "Epoch 13/20\n",
            "147/147 [==============================] - 3s 17ms/step - loss: 0.0095 - val_loss: 0.4524\n",
            "Epoch 14/20\n",
            "147/147 [==============================] - 2s 13ms/step - loss: 0.0096 - val_loss: 0.4504\n",
            "Epoch 15/20\n",
            "147/147 [==============================] - 2s 12ms/step - loss: 0.0094 - val_loss: 0.4506\n",
            "Epoch 16/20\n",
            "147/147 [==============================] - 2s 12ms/step - loss: 0.0091 - val_loss: 0.4512\n",
            "Epoch 17/20\n",
            "147/147 [==============================] - 2s 12ms/step - loss: 0.0093 - val_loss: 0.4521\n",
            "Epoch 18/20\n",
            "147/147 [==============================] - 2s 12ms/step - loss: 0.0087 - val_loss: 0.4538\n",
            "Epoch 19/20\n",
            "147/147 [==============================] - 2s 13ms/step - loss: 0.0086 - val_loss: 0.4538\n",
            "Epoch 20/20\n",
            "147/147 [==============================] - 3s 17ms/step - loss: 0.0088 - val_loss: 0.4530\n",
            "147/147 [==============================] - 1s 7ms/step - loss: 0.5614\n",
            "Epoch 1/16\n",
            "118/118 [==============================] - 6s 19ms/step - loss: 0.0404 - val_loss: 0.0807\n",
            "Epoch 2/16\n",
            "118/118 [==============================] - 1s 12ms/step - loss: 0.0078 - val_loss: 0.0741\n",
            "Epoch 3/16\n",
            "118/118 [==============================] - 1s 12ms/step - loss: 0.0062 - val_loss: 0.0694\n",
            "Epoch 4/16\n",
            "118/118 [==============================] - 2s 15ms/step - loss: 0.0059 - val_loss: 0.0649\n",
            "Epoch 5/16\n",
            "118/118 [==============================] - 2s 17ms/step - loss: 0.0051 - val_loss: 0.0641\n",
            "Epoch 6/16\n",
            "118/118 [==============================] - 2s 14ms/step - loss: 0.0051 - val_loss: 0.0610\n",
            "Epoch 7/16\n",
            "118/118 [==============================] - 1s 12ms/step - loss: 0.0049 - val_loss: 0.0557\n",
            "Epoch 8/16\n",
            "118/118 [==============================] - 1s 12ms/step - loss: 0.0050 - val_loss: 0.0546\n",
            "Epoch 9/16\n",
            "118/118 [==============================] - 1s 12ms/step - loss: 0.0048 - val_loss: 0.0519\n",
            "Epoch 10/16\n",
            "118/118 [==============================] - 1s 12ms/step - loss: 0.0042 - val_loss: 0.0500\n",
            "Epoch 11/16\n",
            "118/118 [==============================] - 1s 12ms/step - loss: 0.0043 - val_loss: 0.0483\n",
            "Epoch 12/16\n",
            "118/118 [==============================] - 1s 12ms/step - loss: 0.0043 - val_loss: 0.0468\n",
            "Epoch 13/16\n",
            "118/118 [==============================] - 2s 16ms/step - loss: 0.0040 - val_loss: 0.0470\n",
            "Epoch 14/16\n",
            "118/118 [==============================] - 2s 18ms/step - loss: 0.0042 - val_loss: 0.0438\n",
            "Epoch 15/16\n",
            "118/118 [==============================] - 2s 13ms/step - loss: 0.0035 - val_loss: 0.0427\n",
            "Epoch 16/16\n",
            "118/118 [==============================] - 1s 12ms/step - loss: 0.0036 - val_loss: 0.0421\n",
            "118/118 [==============================] - 1s 5ms/step - loss: 0.0013\n",
            "Epoch 1/16\n",
            "118/118 [==============================] - 7s 24ms/step - loss: 8.7819e-04 - val_loss: 0.4423\n",
            "Epoch 2/16\n",
            "118/118 [==============================] - 2s 17ms/step - loss: 9.1861e-05 - val_loss: 0.4413\n",
            "Epoch 3/16\n",
            "118/118 [==============================] - 1s 13ms/step - loss: 4.3413e-05 - val_loss: 0.4384\n",
            "Epoch 4/16\n",
            "118/118 [==============================] - 1s 13ms/step - loss: 2.8386e-05 - val_loss: 0.4404\n",
            "Epoch 5/16\n",
            "118/118 [==============================] - 1s 13ms/step - loss: 1.9438e-05 - val_loss: 0.4425\n",
            "Epoch 6/16\n",
            "118/118 [==============================] - 1s 13ms/step - loss: 1.6952e-05 - val_loss: 0.4412\n",
            "Epoch 7/16\n",
            "118/118 [==============================] - 1s 12ms/step - loss: 1.2836e-05 - val_loss: 0.4374\n",
            "Epoch 8/16\n",
            "118/118 [==============================] - 1s 13ms/step - loss: 1.2920e-05 - val_loss: 0.4427\n",
            "Epoch 9/16\n",
            "118/118 [==============================] - 2s 14ms/step - loss: 1.0372e-05 - val_loss: 0.4416\n",
            "Epoch 10/16\n",
            "118/118 [==============================] - 2s 17ms/step - loss: 8.4990e-06 - val_loss: 0.4413\n",
            "Epoch 11/16\n",
            "118/118 [==============================] - 2s 16ms/step - loss: 8.3898e-06 - val_loss: 0.4458\n",
            "Epoch 12/16\n",
            "118/118 [==============================] - 1s 13ms/step - loss: 6.9228e-06 - val_loss: 0.4443\n",
            "Epoch 13/16\n",
            "118/118 [==============================] - 1s 13ms/step - loss: 6.3072e-06 - val_loss: 0.4436\n",
            "Epoch 14/16\n",
            "118/118 [==============================] - 1s 12ms/step - loss: 5.1797e-06 - val_loss: 0.4448\n",
            "Epoch 15/16\n",
            "118/118 [==============================] - 1s 12ms/step - loss: 4.5714e-06 - val_loss: 0.4443\n",
            "Epoch 16/16\n",
            "118/118 [==============================] - 1s 12ms/step - loss: 5.6193e-06 - val_loss: 0.4470\n",
            "118/118 [==============================] - 2s 7ms/step - loss: 0.5272\n",
            "Epoch 1/16\n",
            "118/118 [==============================] - 7s 19ms/step - loss: 0.4385 - val_loss: 0.4407\n",
            "Epoch 2/16\n",
            "118/118 [==============================] - 1s 13ms/step - loss: 0.4082 - val_loss: 0.4170\n",
            "Epoch 3/16\n",
            "118/118 [==============================] - 1s 12ms/step - loss: 0.3833 - val_loss: 0.3932\n",
            "Epoch 4/16\n",
            "118/118 [==============================] - 1s 13ms/step - loss: 0.3514 - val_loss: 0.3698\n",
            "Epoch 5/16\n",
            "118/118 [==============================] - 1s 13ms/step - loss: 0.3289 - val_loss: 0.3470\n",
            "Epoch 6/16\n",
            "118/118 [==============================] - 2s 17ms/step - loss: 0.3028 - val_loss: 0.3254\n",
            "Epoch 7/16\n",
            "118/118 [==============================] - 2s 17ms/step - loss: 0.2763 - val_loss: 0.3050\n",
            "Epoch 8/16\n",
            "118/118 [==============================] - 2s 13ms/step - loss: 0.2487 - val_loss: 0.2864\n",
            "Epoch 9/16\n",
            "118/118 [==============================] - 1s 12ms/step - loss: 0.2301 - val_loss: 0.2692\n",
            "Epoch 10/16\n",
            "118/118 [==============================] - 1s 12ms/step - loss: 0.2081 - val_loss: 0.2536\n",
            "Epoch 11/16\n",
            "118/118 [==============================] - 1s 12ms/step - loss: 0.1889 - val_loss: 0.2396\n",
            "Epoch 12/16\n",
            "118/118 [==============================] - 1s 12ms/step - loss: 0.1736 - val_loss: 0.2272\n",
            "Epoch 13/16\n",
            "118/118 [==============================] - 1s 12ms/step - loss: 0.1594 - val_loss: 0.2165\n",
            "Epoch 14/16\n",
            "118/118 [==============================] - 2s 13ms/step - loss: 0.1442 - val_loss: 0.2073\n",
            "Epoch 15/16\n",
            "118/118 [==============================] - 2s 17ms/step - loss: 0.1322 - val_loss: 0.1995\n",
            "Epoch 16/16\n",
            "118/118 [==============================] - 2s 17ms/step - loss: 0.1189 - val_loss: 0.1931\n",
            "118/118 [==============================] - 1s 6ms/step - loss: 0.0589\n",
            "Epoch 1/16\n",
            "118/118 [==============================] - 7s 25ms/step - loss: 0.0313 - val_loss: 0.3040\n",
            "Epoch 2/16\n",
            "118/118 [==============================] - 2s 13ms/step - loss: 0.0233 - val_loss: 0.3189\n",
            "Epoch 3/16\n",
            "118/118 [==============================] - 2s 18ms/step - loss: 0.0185 - val_loss: 0.3331\n",
            "Epoch 4/16\n",
            "118/118 [==============================] - 2s 17ms/step - loss: 0.0148 - val_loss: 0.3462\n",
            "Epoch 5/16\n",
            "118/118 [==============================] - 1s 12ms/step - loss: 0.0121 - val_loss: 0.3580\n",
            "Epoch 6/16\n",
            "118/118 [==============================] - 2s 13ms/step - loss: 0.0109 - val_loss: 0.3681\n",
            "Epoch 7/16\n",
            "118/118 [==============================] - 1s 13ms/step - loss: 0.0097 - val_loss: 0.3745\n",
            "Epoch 8/16\n",
            "118/118 [==============================] - 1s 12ms/step - loss: 0.0093 - val_loss: 0.3798\n",
            "Epoch 9/16\n",
            "118/118 [==============================] - 1s 12ms/step - loss: 0.0087 - val_loss: 0.3827\n",
            "Epoch 10/16\n",
            "118/118 [==============================] - 1s 12ms/step - loss: 0.0085 - val_loss: 0.3850\n",
            "Epoch 11/16\n",
            "118/118 [==============================] - 2s 14ms/step - loss: 0.0084 - val_loss: 0.3864\n",
            "Epoch 12/16\n",
            "118/118 [==============================] - 2s 17ms/step - loss: 0.0087 - val_loss: 0.3863\n",
            "Epoch 13/16\n",
            "118/118 [==============================] - 2s 16ms/step - loss: 0.0081 - val_loss: 0.3848\n",
            "Epoch 14/16\n",
            "118/118 [==============================] - 1s 13ms/step - loss: 0.0084 - val_loss: 0.3855\n",
            "Epoch 15/16\n",
            "118/118 [==============================] - 2s 13ms/step - loss: 0.0075 - val_loss: 0.3863\n",
            "Epoch 16/16\n",
            "118/118 [==============================] - 1s 12ms/step - loss: 0.0079 - val_loss: 0.3855\n",
            "118/118 [==============================] - 1s 6ms/step - loss: 0.4994\n",
            "Epoch 1/20\n",
            "118/118 [==============================] - 7s 22ms/step - loss: 0.0303 - val_loss: 0.0930\n",
            "Epoch 2/20\n",
            "118/118 [==============================] - 1s 12ms/step - loss: 0.0073 - val_loss: 0.0880\n",
            "Epoch 3/20\n",
            "118/118 [==============================] - 1s 13ms/step - loss: 0.0066 - val_loss: 0.0852\n",
            "Epoch 4/20\n",
            "118/118 [==============================] - 1s 12ms/step - loss: 0.0062 - val_loss: 0.0728\n",
            "Epoch 5/20\n",
            "118/118 [==============================] - 2s 13ms/step - loss: 0.0058 - val_loss: 0.0713\n",
            "Epoch 6/20\n",
            "118/118 [==============================] - 1s 12ms/step - loss: 0.0053 - val_loss: 0.0681\n",
            "Epoch 7/20\n",
            "118/118 [==============================] - 1s 13ms/step - loss: 0.0054 - val_loss: 0.0660\n",
            "Epoch 8/20\n",
            "118/118 [==============================] - 2s 17ms/step - loss: 0.0048 - val_loss: 0.0616\n",
            "Epoch 9/20\n",
            "118/118 [==============================] - 2s 17ms/step - loss: 0.0045 - val_loss: 0.0600\n",
            "Epoch 10/20\n",
            "118/118 [==============================] - 1s 12ms/step - loss: 0.0046 - val_loss: 0.0578\n",
            "Epoch 11/20\n",
            "118/118 [==============================] - 1s 12ms/step - loss: 0.0043 - val_loss: 0.0547\n",
            "Epoch 12/20\n",
            "118/118 [==============================] - 1s 12ms/step - loss: 0.0042 - val_loss: 0.0505\n",
            "Epoch 13/20\n",
            "118/118 [==============================] - 1s 13ms/step - loss: 0.0040 - val_loss: 0.0528\n",
            "Epoch 14/20\n",
            "118/118 [==============================] - 1s 12ms/step - loss: 0.0041 - val_loss: 0.0476\n",
            "Epoch 15/20\n",
            "118/118 [==============================] - 1s 13ms/step - loss: 0.0041 - val_loss: 0.0469\n",
            "Epoch 16/20\n",
            "118/118 [==============================] - 2s 14ms/step - loss: 0.0038 - val_loss: 0.0482\n",
            "Epoch 17/20\n",
            "118/118 [==============================] - 2s 17ms/step - loss: 0.0037 - val_loss: 0.0461\n",
            "Epoch 18/20\n",
            "118/118 [==============================] - 2s 16ms/step - loss: 0.0033 - val_loss: 0.0414\n",
            "Epoch 19/20\n",
            "118/118 [==============================] - 2s 13ms/step - loss: 0.0033 - val_loss: 0.0437\n",
            "Epoch 20/20\n",
            "118/118 [==============================] - 1s 12ms/step - loss: 0.0032 - val_loss: 0.0427\n",
            "118/118 [==============================] - 2s 8ms/step - loss: 0.0029\n",
            "Epoch 1/20\n",
            "118/118 [==============================] - 6s 19ms/step - loss: 0.0011 - val_loss: 0.4748\n",
            "Epoch 2/20\n",
            "118/118 [==============================] - 1s 12ms/step - loss: 9.4955e-05 - val_loss: 0.4774\n",
            "Epoch 3/20\n",
            "118/118 [==============================] - 1s 12ms/step - loss: 4.6287e-05 - val_loss: 0.4835\n",
            "Epoch 4/20\n",
            "118/118 [==============================] - 1s 12ms/step - loss: 2.6790e-05 - val_loss: 0.4831\n",
            "Epoch 5/20\n",
            "118/118 [==============================] - 2s 16ms/step - loss: 1.9709e-05 - val_loss: 0.4833\n",
            "Epoch 6/20\n",
            "118/118 [==============================] - 2s 17ms/step - loss: 1.3151e-05 - val_loss: 0.4859\n",
            "Epoch 7/20\n",
            "118/118 [==============================] - 2s 15ms/step - loss: 1.1817e-05 - val_loss: 0.4874\n",
            "Epoch 8/20\n",
            "118/118 [==============================] - 1s 12ms/step - loss: 9.7809e-06 - val_loss: 0.4879\n",
            "Epoch 9/20\n",
            "118/118 [==============================] - 2s 13ms/step - loss: 8.9390e-06 - val_loss: 0.4868\n",
            "Epoch 10/20\n",
            "118/118 [==============================] - 2s 13ms/step - loss: 6.5519e-06 - val_loss: 0.4884\n",
            "Epoch 11/20\n",
            "118/118 [==============================] - 1s 12ms/step - loss: 6.8367e-06 - val_loss: 0.4863\n",
            "Epoch 12/20\n",
            "118/118 [==============================] - 1s 12ms/step - loss: 5.6866e-06 - val_loss: 0.4872\n",
            "Epoch 13/20\n",
            "118/118 [==============================] - 1s 12ms/step - loss: 4.8893e-06 - val_loss: 0.4891\n",
            "Epoch 14/20\n",
            "118/118 [==============================] - 2s 20ms/step - loss: 4.7946e-06 - val_loss: 0.4890\n",
            "Epoch 15/20\n",
            "118/118 [==============================] - 2s 16ms/step - loss: 5.0074e-06 - val_loss: 0.4880\n",
            "Epoch 16/20\n",
            "118/118 [==============================] - 1s 12ms/step - loss: 3.8132e-06 - val_loss: 0.4874\n",
            "Epoch 17/20\n",
            "118/118 [==============================] - 2s 13ms/step - loss: 3.8651e-06 - val_loss: 0.4857\n",
            "Epoch 18/20\n",
            "118/118 [==============================] - 1s 12ms/step - loss: 4.9857e-06 - val_loss: 0.4899\n",
            "Epoch 19/20\n",
            "118/118 [==============================] - 1s 12ms/step - loss: 3.7418e-06 - val_loss: 0.4890\n",
            "Epoch 20/20\n",
            "118/118 [==============================] - 1s 13ms/step - loss: 3.3269e-06 - val_loss: 0.4890\n",
            "118/118 [==============================] - 1s 6ms/step - loss: 0.5919\n",
            "Epoch 1/20\n",
            "118/118 [==============================] - 7s 24ms/step - loss: 0.7208 - val_loss: 0.6835\n",
            "Epoch 2/20\n",
            "118/118 [==============================] - 2s 17ms/step - loss: 0.6594 - val_loss: 0.6366\n",
            "Epoch 3/20\n",
            "118/118 [==============================] - 2s 13ms/step - loss: 0.6075 - val_loss: 0.5904\n",
            "Epoch 4/20\n",
            "118/118 [==============================] - 1s 12ms/step - loss: 0.5478 - val_loss: 0.5456\n",
            "Epoch 5/20\n",
            "118/118 [==============================] - 2s 13ms/step - loss: 0.4939 - val_loss: 0.5028\n",
            "Epoch 6/20\n",
            "118/118 [==============================] - 2s 13ms/step - loss: 0.4464 - val_loss: 0.4619\n",
            "Epoch 7/20\n",
            "118/118 [==============================] - 1s 13ms/step - loss: 0.3950 - val_loss: 0.4237\n",
            "Epoch 8/20\n",
            "118/118 [==============================] - 1s 12ms/step - loss: 0.3512 - val_loss: 0.3888\n",
            "Epoch 9/20\n",
            "118/118 [==============================] - 2s 13ms/step - loss: 0.3142 - val_loss: 0.3572\n",
            "Epoch 10/20\n",
            "118/118 [==============================] - 2s 17ms/step - loss: 0.2719 - val_loss: 0.3290\n",
            "Epoch 11/20\n",
            "118/118 [==============================] - 2s 16ms/step - loss: 0.2412 - val_loss: 0.3046\n",
            "Epoch 12/20\n",
            "118/118 [==============================] - 1s 12ms/step - loss: 0.2137 - val_loss: 0.2836\n",
            "Epoch 13/20\n",
            "118/118 [==============================] - 1s 13ms/step - loss: 0.1983 - val_loss: 0.2660\n",
            "Epoch 14/20\n",
            "118/118 [==============================] - 1s 12ms/step - loss: 0.1774 - val_loss: 0.2511\n",
            "Epoch 15/20\n",
            "118/118 [==============================] - 2s 13ms/step - loss: 0.1651 - val_loss: 0.2391\n",
            "Epoch 16/20\n",
            "118/118 [==============================] - 2s 13ms/step - loss: 0.1538 - val_loss: 0.2291\n",
            "Epoch 17/20\n",
            "118/118 [==============================] - 1s 13ms/step - loss: 0.1433 - val_loss: 0.2211\n",
            "Epoch 18/20\n",
            "118/118 [==============================] - 2s 15ms/step - loss: 0.1345 - val_loss: 0.2144\n",
            "Epoch 19/20\n",
            "118/118 [==============================] - 2s 18ms/step - loss: 0.1295 - val_loss: 0.2091\n",
            "Epoch 20/20\n",
            "118/118 [==============================] - 2s 15ms/step - loss: 0.1223 - val_loss: 0.2042\n",
            "118/118 [==============================] - 1s 5ms/step - loss: 0.0811\n",
            "Epoch 1/20\n",
            "118/118 [==============================] - 6s 20ms/step - loss: 0.0174 - val_loss: 0.4901\n",
            "Epoch 2/20\n",
            "118/118 [==============================] - 2s 15ms/step - loss: 0.0124 - val_loss: 0.4660\n",
            "Epoch 3/20\n",
            "118/118 [==============================] - 2s 17ms/step - loss: 0.0095 - val_loss: 0.4486\n",
            "Epoch 4/20\n",
            "118/118 [==============================] - 2s 15ms/step - loss: 0.0081 - val_loss: 0.4352\n",
            "Epoch 5/20\n",
            "118/118 [==============================] - 1s 12ms/step - loss: 0.0074 - val_loss: 0.4256\n",
            "Epoch 6/20\n",
            "118/118 [==============================] - 1s 12ms/step - loss: 0.0069 - val_loss: 0.4200\n",
            "Epoch 7/20\n",
            "118/118 [==============================] - 1s 13ms/step - loss: 0.0067 - val_loss: 0.4155\n",
            "Epoch 8/20\n",
            "118/118 [==============================] - 1s 12ms/step - loss: 0.0069 - val_loss: 0.4129\n",
            "Epoch 9/20\n",
            "118/118 [==============================] - 1s 13ms/step - loss: 0.0064 - val_loss: 0.4113\n",
            "Epoch 10/20\n",
            "118/118 [==============================] - 1s 13ms/step - loss: 0.0058 - val_loss: 0.4098\n",
            "Epoch 11/20\n",
            "118/118 [==============================] - 2s 16ms/step - loss: 0.0065 - val_loss: 0.4104\n",
            "Epoch 12/20\n",
            "118/118 [==============================] - 2s 17ms/step - loss: 0.0057 - val_loss: 0.4085\n",
            "Epoch 13/20\n",
            "118/118 [==============================] - 2s 14ms/step - loss: 0.0059 - val_loss: 0.4076\n",
            "Epoch 14/20\n",
            "118/118 [==============================] - 2s 13ms/step - loss: 0.0055 - val_loss: 0.4076\n",
            "Epoch 15/20\n",
            "118/118 [==============================] - 1s 12ms/step - loss: 0.0052 - val_loss: 0.4078\n",
            "Epoch 16/20\n",
            "118/118 [==============================] - 1s 12ms/step - loss: 0.0056 - val_loss: 0.4069\n",
            "Epoch 17/20\n",
            "118/118 [==============================] - 2s 13ms/step - loss: 0.0056 - val_loss: 0.4058\n",
            "Epoch 18/20\n",
            "118/118 [==============================] - 1s 13ms/step - loss: 0.0052 - val_loss: 0.4056\n",
            "Epoch 19/20\n",
            "118/118 [==============================] - 2s 13ms/step - loss: 0.0052 - val_loss: 0.4053\n",
            "Epoch 20/20\n",
            "118/118 [==============================] - 2s 17ms/step - loss: 0.0050 - val_loss: 0.4039\n",
            "118/118 [==============================] - 1s 6ms/step - loss: 0.5448\n",
            "Epoch 1/16\n",
            "236/236 [==============================] - 9s 15ms/step - loss: 0.0129 - val_loss: 0.0888\n",
            "Epoch 2/16\n",
            "236/236 [==============================] - 3s 12ms/step - loss: 0.0042 - val_loss: 0.0720\n",
            "Epoch 3/16\n",
            "236/236 [==============================] - 3s 11ms/step - loss: 0.0033 - val_loss: 0.0635\n",
            "Epoch 4/16\n",
            "236/236 [==============================] - 4s 16ms/step - loss: 0.0029 - val_loss: 0.0596\n",
            "Epoch 5/16\n",
            "236/236 [==============================] - 3s 13ms/step - loss: 0.0027 - val_loss: 0.0615\n",
            "Epoch 6/16\n",
            "236/236 [==============================] - 3s 12ms/step - loss: 0.0027 - val_loss: 0.0541\n",
            "Epoch 7/16\n",
            "236/236 [==============================] - 3s 12ms/step - loss: 0.0023 - val_loss: 0.0507\n",
            "Epoch 8/16\n",
            "236/236 [==============================] - 3s 12ms/step - loss: 0.0022 - val_loss: 0.0480\n",
            "Epoch 9/16\n",
            "236/236 [==============================] - 4s 16ms/step - loss: 0.0021 - val_loss: 0.0464\n",
            "Epoch 10/16\n",
            "236/236 [==============================] - 3s 12ms/step - loss: 0.0020 - val_loss: 0.0452\n",
            "Epoch 11/16\n",
            "236/236 [==============================] - 3s 11ms/step - loss: 0.0021 - val_loss: 0.0421\n",
            "Epoch 12/16\n",
            "236/236 [==============================] - 3s 12ms/step - loss: 0.0021 - val_loss: 0.0419\n",
            "Epoch 13/16\n",
            "236/236 [==============================] - 3s 13ms/step - loss: 0.0020 - val_loss: 0.0414\n",
            "Epoch 14/16\n",
            "236/236 [==============================] - 4s 15ms/step - loss: 0.0020 - val_loss: 0.0386\n",
            "Epoch 15/16\n",
            "236/236 [==============================] - 3s 12ms/step - loss: 0.0019 - val_loss: 0.0380\n",
            "Epoch 16/16\n",
            "236/236 [==============================] - 3s 12ms/step - loss: 0.0017 - val_loss: 0.0376\n"
          ]
        }
      ],
      "source": [
        "grid_search = grid_search.fit(trainX,trainY)"
      ]
    },
    {
      "cell_type": "code",
      "execution_count": null,
      "id": "a9e26e10",
      "metadata": {
        "id": "a9e26e10",
        "outputId": "ba7175ea-0931-4648-b8ae-76a13c666041",
        "colab": {
          "base_uri": "https://localhost:8080/"
        }
      },
      "outputs": [
        {
          "output_type": "execute_result",
          "data": {
            "text/plain": [
              "{'batch_size': 20, 'epochs': 16, 'optimizer': 'adam'}"
            ]
          },
          "metadata": {},
          "execution_count": 25
        }
      ],
      "source": [
        "grid_search.best_params_"
      ]
    },
    {
      "cell_type": "code",
      "execution_count": null,
      "id": "d6851ffc",
      "metadata": {
        "id": "d6851ffc"
      },
      "outputs": [],
      "source": [
        "my_model=grid_search.best_estimator_.model"
      ]
    },
    {
      "cell_type": "code",
      "execution_count": null,
      "id": "9f0b2e50",
      "metadata": {
        "id": "9f0b2e50",
        "outputId": "27801023-0949-431f-dcce-dbab8d7d55d6",
        "colab": {
          "base_uri": "https://localhost:8080/"
        }
      },
      "outputs": [
        {
          "output_type": "execute_result",
          "data": {
            "text/plain": [
              "<keras.engine.sequential.Sequential at 0x7fb5891ccb20>"
            ]
          },
          "metadata": {},
          "execution_count": 27
        }
      ],
      "source": [
        "my_model"
      ]
    },
    {
      "cell_type": "code",
      "execution_count": null,
      "id": "eeb97d64",
      "metadata": {
        "id": "eeb97d64",
        "colab": {
          "base_uri": "https://localhost:8080/"
        },
        "outputId": "481da920-731f-46a8-960f-90de51addf7b"
      },
      "outputs": [
        {
          "output_type": "stream",
          "name": "stdout",
          "text": [
            "35/35 [==============================] - 1s 6ms/step\n"
          ]
        }
      ],
      "source": [
        "prediction=my_model.predict(testX)"
      ]
    },
    {
      "cell_type": "code",
      "execution_count": null,
      "id": "8699c0d3",
      "metadata": {
        "id": "8699c0d3",
        "outputId": "93ee718e-4163-4a18-b8a2-3cd1f322a69f",
        "colab": {
          "base_uri": "https://localhost:8080/"
        }
      },
      "outputs": [
        {
          "output_type": "stream",
          "name": "stdout",
          "text": [
            "prediction\n",
            " [[0.2287853 ]\n",
            " [0.23023833]\n",
            " [0.23170522]\n",
            " ...\n",
            " [0.05594319]\n",
            " [0.05423987]\n",
            " [0.05283345]]\n",
            "\n",
            "Prediction Shape- (1100, 1)\n"
          ]
        }
      ],
      "source": [
        "print(\"prediction\\n\", prediction)\n",
        "print(\"\\nPrediction Shape-\",prediction.shape)"
      ]
    },
    {
      "cell_type": "code",
      "execution_count": null,
      "id": "2be6090a",
      "metadata": {
        "id": "2be6090a",
        "outputId": "e9e7a673-5b67-48a5-a6c6-583a6369b408",
        "colab": {
          "base_uri": "https://localhost:8080/"
        }
      },
      "outputs": [
        {
          "output_type": "execute_result",
          "data": {
            "text/plain": [
              "(1100, 1)"
            ]
          },
          "metadata": {},
          "execution_count": 21
        }
      ],
      "source": [
        "prediction.shape"
      ]
    },
    {
      "cell_type": "code",
      "execution_count": null,
      "id": "44862c61",
      "metadata": {
        "id": "44862c61"
      },
      "outputs": [],
      "source": [
        "prediction_copies_array = np.repeat(prediction,12, axis=-1)"
      ]
    },
    {
      "cell_type": "code",
      "execution_count": null,
      "id": "1dbd500f",
      "metadata": {
        "id": "1dbd500f",
        "outputId": "c529905d-149c-4ac9-9837-3ea8c50a5b4e",
        "colab": {
          "base_uri": "https://localhost:8080/"
        }
      },
      "outputs": [
        {
          "output_type": "execute_result",
          "data": {
            "text/plain": [
              "(1100, 12)"
            ]
          },
          "metadata": {},
          "execution_count": 24
        }
      ],
      "source": [
        "prediction_copies_array.shape"
      ]
    },
    {
      "cell_type": "code",
      "execution_count": null,
      "id": "3b00bd6e",
      "metadata": {
        "id": "3b00bd6e",
        "outputId": "011e46ef-f4fa-4539-fb34-c65e33e493c7",
        "colab": {
          "base_uri": "https://localhost:8080/"
        }
      },
      "outputs": [
        {
          "output_type": "execute_result",
          "data": {
            "text/plain": [
              "array([[0.2287853 , 0.2287853 , 0.2287853 , ..., 0.2287853 , 0.2287853 ,\n",
              "        0.2287853 ],\n",
              "       [0.23023833, 0.23023833, 0.23023833, ..., 0.23023833, 0.23023833,\n",
              "        0.23023833],\n",
              "       [0.23170522, 0.23170522, 0.23170522, ..., 0.23170522, 0.23170522,\n",
              "        0.23170522],\n",
              "       ...,\n",
              "       [0.05594319, 0.05594319, 0.05594319, ..., 0.05594319, 0.05594319,\n",
              "        0.05594319],\n",
              "       [0.05423987, 0.05423987, 0.05423987, ..., 0.05423987, 0.05423987,\n",
              "        0.05423987],\n",
              "       [0.05283345, 0.05283345, 0.05283345, ..., 0.05283345, 0.05283345,\n",
              "        0.05283345]], dtype=float32)"
            ]
          },
          "metadata": {},
          "execution_count": 25
        }
      ],
      "source": [
        "prediction_copies_array"
      ]
    },
    {
      "cell_type": "code",
      "execution_count": null,
      "id": "84f2780a",
      "metadata": {
        "id": "84f2780a"
      },
      "outputs": [],
      "source": [
        "pred=scaler.inverse_transform(np.reshape(prediction_copies_array,(len(prediction),12)))[:,0]"
      ]
    },
    {
      "cell_type": "code",
      "execution_count": null,
      "id": "2c86afce",
      "metadata": {
        "id": "2c86afce",
        "outputId": "328b5a31-b6c7-4007-b672-a7fe546c025c",
        "colab": {
          "base_uri": "https://localhost:8080/"
        }
      },
      "outputs": [
        {
          "output_type": "execute_result",
          "data": {
            "text/plain": [
              "array([0.2287853 , 0.23023833, 0.23170522, ..., 0.05594319, 0.05423987,\n",
              "       0.05283345], dtype=float32)"
            ]
          },
          "metadata": {},
          "execution_count": 27
        }
      ],
      "source": [
        "pred"
      ]
    },
    {
      "cell_type": "code",
      "execution_count": null,
      "id": "4ec05dff",
      "metadata": {
        "id": "4ec05dff"
      },
      "outputs": [],
      "source": [
        "original_copies_array = np.repeat(testY,12, axis=-1)\n",
        "\n",
        "original_copies_array.shape\n",
        "\n",
        "original=scaler.inverse_transform(np.reshape(original_copies_array,(len(testY),12)))[:,0]"
      ]
    },
    {
      "cell_type": "code",
      "execution_count": null,
      "id": "442e0222",
      "metadata": {
        "id": "442e0222",
        "outputId": "87dcb277-c274-45b8-8b76-9a998bf4b9f4",
        "colab": {
          "base_uri": "https://localhost:8080/"
        }
      },
      "outputs": [
        {
          "output_type": "execute_result",
          "data": {
            "text/plain": [
              "array([0.2287853 , 0.23023833, 0.23170522, ..., 0.05594319, 0.05423987,\n",
              "       0.05283345], dtype=float32)"
            ]
          },
          "metadata": {},
          "execution_count": 29
        }
      ],
      "source": [
        "pred"
      ]
    },
    {
      "cell_type": "code",
      "execution_count": null,
      "id": "cecfd7bf",
      "metadata": {
        "id": "cecfd7bf",
        "outputId": "66464031-d438-40c3-da67-fb86194dc67a",
        "colab": {
          "base_uri": "https://localhost:8080/"
        }
      },
      "outputs": [
        {
          "output_type": "stream",
          "name": "stdout",
          "text": [
            "Pred Values--  [0.2287853  0.23023833 0.23170522 ... 0.05594319 0.05423987 0.05283345]\n",
            "\n",
            "Original Values--  [1. 1. 1. ... 0. 0. 0.]\n"
          ]
        }
      ],
      "source": [
        "print(\"Pred Values-- \" ,pred)\n",
        "print(\"\\nOriginal Values-- \",original)"
      ]
    },
    {
      "cell_type": "code",
      "execution_count": null,
      "id": "b1986d23",
      "metadata": {
        "id": "b1986d23"
      },
      "outputs": [],
      "source": []
    },
    {
      "cell_type": "code",
      "execution_count": null,
      "id": "07e37414",
      "metadata": {
        "id": "07e37414"
      },
      "outputs": [],
      "source": [
        "import matplotlib.pyplot as plt"
      ]
    },
    {
      "cell_type": "code",
      "source": [],
      "metadata": {
        "id": "D1h_FN87uUGB"
      },
      "id": "D1h_FN87uUGB",
      "execution_count": null,
      "outputs": []
    },
    {
      "cell_type": "code",
      "execution_count": null,
      "id": "bfa9b94b",
      "metadata": {
        "id": "bfa9b94b",
        "outputId": "57ded98e-5b15-4ac7-c6b5-0cee6d12aae1",
        "colab": {
          "base_uri": "https://localhost:8080/",
          "height": 490
        }
      },
      "outputs": [
        {
          "output_type": "display_data",
          "data": {
            "text/plain": [
              "<Figure size 640x480 with 1 Axes>"
            ],
            "image/png": "[encoded data removed]"
          },
          "metadata": {}
        },
        {
          "output_type": "stream",
          "name": "stdout",
          "text": [
            "precision: 0.9704797047970479\n"
          ]
        }
      ],
      "source": [
        "from sklearn.metrics import precision_score\n",
        "\n",
        "low = pred.min()\n",
        "high = pred.max()\n",
        "medium = (low+high)/2\n",
        "\n",
        "pred_copy = pred\n",
        "\n",
        "for i in range(len(pred_copy)):\n",
        "    if pred_copy[i] >= medium:\n",
        "      pred_copy[i] = 1\n",
        "    else:\n",
        "      pred_copy[i] = 0\n",
        "\n",
        "plt.plot(original, color = 'orange', label = 'real')\n",
        "plt.plot(pred, color = 'green', label = 'predicted')\n",
        "plt.title(' Motion prediction')\n",
        "plt.xlabel('time')\n",
        "plt.ylabel('hand_target_bin')\n",
        "plt.legend()\n",
        "plt.show()\n",
        "\n",
        "print('precision:', precision_score(pred_copy, original))"
      ]
    }
  ],
  "metadata": {
    "kernelspec": {
      "display_name": "Python 3",
      "name": "python3"
    },
    "language_info": {
      "codemirror_mode": {
        "name": "ipython",
        "version": 3
      },
      "file_extension": ".py",
      "mimetype": "text/x-python",
      "name": "python",
      "nbconvert_exporter": "python",
      "pygments_lexer": "ipython3",
      "version": "3.9.7"
    },
    "colab": {
      "provenance": [],
      "gpuType": "T4"
    },
    "accelerator": "GPU"
  },
  "nbformat": 4,
  "nbformat_minor": 5
}